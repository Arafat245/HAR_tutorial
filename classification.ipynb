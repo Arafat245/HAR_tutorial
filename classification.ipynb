{
 "cells": [
  {
   "cell_type": "code",
   "execution_count": 1,
   "metadata": {},
   "outputs": [],
   "source": [
    "import pandas as pd\n",
    "import numpy as np\n",
    "import os\n",
    "from glob import glob\n",
    "from sklearn.ensemble import RandomForestClassifier\n",
    "from sklearn.model_selection import train_test_split"
   ]
  },
  {
   "cell_type": "code",
   "execution_count": 2,
   "metadata": {},
   "outputs": [],
   "source": [
    "from sklearn.metrics import classification_report\n",
    "from display_results import confusion_matrix"
   ]
  },
  {
   "cell_type": "code",
   "execution_count": 3,
   "metadata": {},
   "outputs": [],
   "source": [
    "df_activity = pd.read_csv(\"activities.csv\")"
   ]
  },
  {
   "cell_type": "code",
   "execution_count": 4,
   "metadata": {},
   "outputs": [],
   "source": [
    "def segmentation(x_data,y,overlap_rate,time_window):\n",
    "    \n",
    "    seg_data = []\n",
    "    overlap = int((1 - overlap_rate)*time_window)\n",
    "    y_segmented_list = []\n",
    "    \n",
    "    for i in range(0,x_data.shape[0],overlap):\n",
    "        seg_data.append(x_data[i:i+time_window])\n",
    "        y_segmented_list.append(y)\n",
    "\n",
    "    return seg_data,y_segmented_list"
   ]
  },
  {
   "cell_type": "code",
   "execution_count": 5,
   "metadata": {},
   "outputs": [],
   "source": [
    "def handle_missing_values(df):\n",
    "    df['x']=df['x'].replace(0, np.nan)\n",
    "    df['y']=df['y'].replace(0, np.nan)\n",
    "    df['z']=df['z'].replace(0, np.nan)\n",
    "    return df"
   ]
  },
  {
   "cell_type": "code",
   "execution_count": 7,
   "metadata": {},
   "outputs": [],
   "source": [
    "def get_act_id(seg_id):\n",
    "    seg = df_activity[df_activity[\"segment_id\"]==seg_id]\n",
    "    activity_id = seg[\"activity_id\"].values\n",
    "    return int(activity_id)"
   ]
  },
  {
   "cell_type": "code",
   "execution_count": 6,
   "metadata": {},
   "outputs": [],
   "source": [
    "def load_data(csv_file):\n",
    "\n",
    "    y_list = []\n",
    "    x_data_list = []\n",
    "\n",
    "    csv_df = pd.read_csv(csv_file)\n",
    "    csv_df = handle_missing_values(csv_df)\n",
    "    csv_df.dropna(inplace=True)\n",
    "    x_data = csv_df.values\n",
    "    act_id = get_act_id(int(os.path.splitext(os.path.basename(csv_file))[0].replace(\"segment\",\"\")))\n",
    "    \n",
    "    return x_data,act_id"
   ]
  },
  {
   "cell_type": "code",
   "execution_count": 8,
   "metadata": {},
   "outputs": [],
   "source": [
    "def get_features(x_data):\n",
    "    features = []\n",
    "    for i in range(x_data.shape[1]):\n",
    "        # std\n",
    "        features.append(x_data.T[i].std(ddof=0))\n",
    "        # avg\n",
    "        features.append(np.average(x_data.T[i]))\n",
    "        # max\n",
    "        features.append(np.max(x_data.T[i]))\n",
    "        # min\n",
    "        features.append(np.min(x_data.T[i]))\n",
    "    return features"
   ]
  },
  {
   "cell_type": "code",
   "execution_count": 9,
   "metadata": {},
   "outputs": [],
   "source": [
    "csv_files = glob(\"train/*\")"
   ]
  },
  {
   "cell_type": "code",
   "execution_count": 10,
   "metadata": {},
   "outputs": [],
   "source": [
    "X_feature_data_list = []\n",
    "y_list = []\n",
    "for csv_file in csv_files:\n",
    "    x,y = load_data(csv_file)\n",
    "    X_feature_data_list.append(get_features(x))\n",
    "    y_list.append(y)"
   ]
  },
  {
   "cell_type": "code",
   "execution_count": 11,
   "metadata": {},
   "outputs": [],
   "source": [
    "X_train,X_test,y_train,y_test = train_test_split(X_feature_data_list,y_list,test_size=0.3)"
   ]
  },
  {
   "cell_type": "code",
   "execution_count": 12,
   "metadata": {},
   "outputs": [],
   "source": [
    "model_ml = RandomForestClassifier(n_estimators=500,n_jobs=-1)"
   ]
  },
  {
   "cell_type": "code",
   "execution_count": 13,
   "metadata": {},
   "outputs": [],
   "source": [
    "model_ml.fit(X_train,y_train)\n",
    "y_predict = model_ml.predict(X_test)"
   ]
  },
  {
   "cell_type": "code",
   "execution_count": 14,
   "metadata": {},
   "outputs": [
    {
     "name": "stdout",
     "output_type": "stream",
     "text": [
      "              precision    recall  f1-score   support\n",
      "\n",
      "           2       0.60      0.75      0.67         8\n",
      "           3       0.62      0.80      0.70        10\n",
      "           4       0.50      0.20      0.29         5\n",
      "           6       1.00      0.33      0.50         9\n",
      "           9       0.62      0.62      0.62         8\n",
      "          12       0.67      0.86      0.75        14\n",
      "\n",
      "    accuracy                           0.65        54\n",
      "   macro avg       0.67      0.59      0.59        54\n",
      "weighted avg       0.68      0.65      0.62        54\n",
      "\n"
     ]
    }
   ],
   "source": [
    "print(classification_report(y_test,y_predict))"
   ]
  },
  {
   "cell_type": "code",
   "execution_count": 15,
   "metadata": {},
   "outputs": [
    {
     "data": {
      "image/png": "[encoded data removed]",
      "text/plain": [
       "<Figure size 864x576 with 2 Axes>"
      ]
     },
     "metadata": {},
     "output_type": "display_data"
    },
    {
     "name": "stdout",
     "output_type": "stream",
     "text": [
      "None\n"
     ]
    }
   ],
   "source": [
    "print(confusion_matrix(y_test, y_predict))"
   ]
  }
 ],
 "metadata": {
  "kernelspec": {
   "display_name": "Python 3",
   "language": "python",
   "name": "python3"
  },
  "language_info": {
   "codemirror_mode": {
    "name": "ipython",
    "version": 3
   },
   "file_extension": ".py",
   "mimetype": "text/x-python",
   "name": "python",
   "nbconvert_exporter": "python",
   "pygments_lexer": "ipython3",
   "version": "3.6.5"
  }
 },
 "nbformat": 4,
 "nbformat_minor": 2
}
